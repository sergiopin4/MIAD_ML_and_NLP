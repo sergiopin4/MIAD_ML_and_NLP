{
 "cells": [
  {
   "cell_type": "markdown",
   "metadata": {},
   "source": [
    "![image info](https://raw.githubusercontent.com/albahnsen/MIAD_ML_and_NLP/main/images/banner_1.png)"
   ]
  },
  {
   "cell_type": "markdown",
   "metadata": {},
   "source": [
    "# Taller: Construcción e implementación de modelos Bagging, Random Forest y XGBoost\n",
    "\n",
    "En este taller podrán poner en práctica sus conocimientos sobre la construcción e implementación de modelos de Bagging, Random Forest y XGBoost. El taller está constituido por 8 puntos, en los cuales deberan seguir las intrucciones de cada numeral para su desarrollo."
   ]
  },
  {
   "cell_type": "markdown",
   "metadata": {},
   "source": [
    "## Datos predicción precio de automóviles\n",
    "\n",
    "En este taller se usará el conjunto de datos de Car Listings de Kaggle donde cada observación representa el precio de un automóvil teniendo en cuenta distintas variables como año, marca, modelo, entre otras. El objetivo es predecir si el precio del automóvil es alto o no. Para más detalles puede visitar el siguiente enlace: [datos](https://www.kaggle.com/jpayne/852k-used-car-listings)."
   ]
  },
  {
   "cell_type": "code",
   "execution_count": 54,
   "metadata": {},
   "outputs": [],
   "source": [
    "import warnings\n",
    "warnings.filterwarnings('ignore')"
   ]
  },
  {
   "cell_type": "code",
   "execution_count": 55,
   "metadata": {},
   "outputs": [],
   "source": [
    "# Importación de librerías\n",
    "%matplotlib inline\n",
    "import pandas as pd\n",
    "import numpy as np\n",
    "from sklearn.model_selection import cross_val_score\n",
    "from sklearn.linear_model import LinearRegression\n",
    "from sklearn.tree import DecisionTreeRegressor, export_graphviz\n",
    "from sklearn.metrics import mean_squared_error\n",
    "from sklearn.tree import DecisionTreeClassifier\n",
    "from sklearn import metrics\n",
    "from sklearn.ensemble import BaggingClassifier\n",
    "from sklearn.ensemble import RandomForestClassifier\n",
    "import matplotlib.pyplot as plt"
   ]
  },
  {
   "cell_type": "code",
   "execution_count": 56,
   "metadata": {},
   "outputs": [
    {
     "data": {
      "text/html": [
       "<div>\n",
       "<style scoped>\n",
       "    .dataframe tbody tr th:only-of-type {\n",
       "        vertical-align: middle;\n",
       "    }\n",
       "\n",
       "    .dataframe tbody tr th {\n",
       "        vertical-align: top;\n",
       "    }\n",
       "\n",
       "    .dataframe thead th {\n",
       "        text-align: right;\n",
       "    }\n",
       "</style>\n",
       "<table border=\"1\" class=\"dataframe\">\n",
       "  <thead>\n",
       "    <tr style=\"text-align: right;\">\n",
       "      <th></th>\n",
       "      <th>Year</th>\n",
       "      <th>Mileage</th>\n",
       "      <th>M_Camry</th>\n",
       "      <th>M_Camry4dr</th>\n",
       "      <th>M_CamryBase</th>\n",
       "      <th>M_CamryL</th>\n",
       "      <th>M_CamryLE</th>\n",
       "      <th>M_CamrySE</th>\n",
       "      <th>M_CamryXLE</th>\n",
       "      <th>HighPrice</th>\n",
       "    </tr>\n",
       "  </thead>\n",
       "  <tbody>\n",
       "    <tr>\n",
       "      <th>7</th>\n",
       "      <td>2014</td>\n",
       "      <td>6480</td>\n",
       "      <td>0</td>\n",
       "      <td>0</td>\n",
       "      <td>0</td>\n",
       "      <td>1</td>\n",
       "      <td>0</td>\n",
       "      <td>0</td>\n",
       "      <td>0</td>\n",
       "      <td>1</td>\n",
       "    </tr>\n",
       "    <tr>\n",
       "      <th>11</th>\n",
       "      <td>2014</td>\n",
       "      <td>39972</td>\n",
       "      <td>0</td>\n",
       "      <td>0</td>\n",
       "      <td>0</td>\n",
       "      <td>0</td>\n",
       "      <td>1</td>\n",
       "      <td>0</td>\n",
       "      <td>0</td>\n",
       "      <td>0</td>\n",
       "    </tr>\n",
       "    <tr>\n",
       "      <th>167</th>\n",
       "      <td>2016</td>\n",
       "      <td>18989</td>\n",
       "      <td>0</td>\n",
       "      <td>0</td>\n",
       "      <td>0</td>\n",
       "      <td>0</td>\n",
       "      <td>0</td>\n",
       "      <td>1</td>\n",
       "      <td>0</td>\n",
       "      <td>1</td>\n",
       "    </tr>\n",
       "    <tr>\n",
       "      <th>225</th>\n",
       "      <td>2014</td>\n",
       "      <td>51330</td>\n",
       "      <td>0</td>\n",
       "      <td>0</td>\n",
       "      <td>0</td>\n",
       "      <td>1</td>\n",
       "      <td>0</td>\n",
       "      <td>0</td>\n",
       "      <td>0</td>\n",
       "      <td>0</td>\n",
       "    </tr>\n",
       "    <tr>\n",
       "      <th>270</th>\n",
       "      <td>2007</td>\n",
       "      <td>116065</td>\n",
       "      <td>0</td>\n",
       "      <td>1</td>\n",
       "      <td>0</td>\n",
       "      <td>0</td>\n",
       "      <td>0</td>\n",
       "      <td>0</td>\n",
       "      <td>0</td>\n",
       "      <td>0</td>\n",
       "    </tr>\n",
       "  </tbody>\n",
       "</table>\n",
       "</div>"
      ],
      "text/plain": [
       "     Year  Mileage  M_Camry  M_Camry4dr  M_CamryBase  M_CamryL  M_CamryLE  \\\n",
       "7    2014     6480        0           0            0         1          0   \n",
       "11   2014    39972        0           0            0         0          1   \n",
       "167  2016    18989        0           0            0         0          0   \n",
       "225  2014    51330        0           0            0         1          0   \n",
       "270  2007   116065        0           1            0         0          0   \n",
       "\n",
       "     M_CamrySE  M_CamryXLE  HighPrice  \n",
       "7            0           0          1  \n",
       "11           0           0          0  \n",
       "167          1           0          1  \n",
       "225          0           0          0  \n",
       "270          0           0          0  "
      ]
     },
     "execution_count": 56,
     "metadata": {},
     "output_type": "execute_result"
    }
   ],
   "source": [
    "# Importación de librerías\n",
    "%matplotlib inline\n",
    "import pandas as pd\n",
    "\n",
    "# Lectura de la información de archivo .csv\n",
    "data = pd.read_csv('https://raw.githubusercontent.com/albahnsen/MIAD_ML_and_NLP/main/datasets/dataTrain_carListings.zip')\n",
    "\n",
    "# Preprocesamiento de datos para el taller\n",
    "data = data.loc[data['Model'].str.contains('Camry')].drop(['Make', 'State'], axis=1)\n",
    "data = data.join(pd.get_dummies(data['Model'], prefix='M'))\n",
    "data['HighPrice'] = (data['Price'] > data['Price'].mean()).astype(int)\n",
    "data = data.drop(['Model', 'Price'], axis=1)\n",
    "\n",
    "# Visualización dataset\n",
    "data.head()"
   ]
  },
  {
   "cell_type": "code",
   "execution_count": 57,
   "metadata": {},
   "outputs": [],
   "source": [
    "# Separación de variables predictoras (X) y variable de interés (y)\n",
    "y = data['HighPrice']\n",
    "X = data.drop(['HighPrice'], axis=1)"
   ]
  },
  {
   "cell_type": "code",
   "execution_count": 58,
   "metadata": {},
   "outputs": [],
   "source": [
    "# Separación de datos en set de entrenamiento y test\n",
    "from sklearn.model_selection import train_test_split\n",
    "X_train, X_test, y_train, y_test = train_test_split(X, y, test_size=0.33, random_state=42)"
   ]
  },
  {
   "cell_type": "markdown",
   "metadata": {},
   "source": [
    "### Punto 1 - Árbol de decisión manual\n",
    "\n",
    "En la celda 1 creen un árbol de decisión **manualmente**  que considere los set de entrenamiento y test definidos anteriormente y presenten el acurracy del modelo en el set de test."
   ]
  },
  {
   "cell_type": "code",
   "execution_count": 59,
   "metadata": {},
   "outputs": [],
   "source": [
    "# Celda 1 - Funciones para implementar el árbol de decisión manualmente.\n",
    "\n",
    "# Definición de la función que calcula el gini index\n",
    "def gini(y):\n",
    "    if y.shape[0] == 0:\n",
    "        return 0\n",
    "    else:\n",
    "        return 1 - (y.mean()**2 + (1 - y.mean())**2)\n",
    "\n",
    "# Definición de la función gini_imputiry para calular la ganancia de una variable predictora j dado el punto de corte k\n",
    "def gini_impurity(X_col, y, split):\n",
    "    \n",
    "    filter_l = X_col < split\n",
    "    y_l = y.loc[filter_l]\n",
    "    y_r = y.loc[~filter_l]\n",
    "    \n",
    "    n_l = y_l.shape[0]\n",
    "    n_r = y_r.shape[0]\n",
    "    \n",
    "    gini_y = gini(y)\n",
    "    gini_l = gini(y_l)\n",
    "    gini_r = gini(y_r)\n",
    "    \n",
    "    gini_impurity_ = gini_y - (n_l / (n_l + n_r) * gini_l + n_r / (n_l + n_r) * gini_r)\n",
    "    \n",
    "    return gini_impurity_\n",
    "\n",
    "# Definición de la función best_split para calcular cuál es la mejor variable y punto de cortepara hacer la bifurcación del árbol\n",
    "def best_split(X, y, num_pct=10):\n",
    "    \n",
    "    features = range(X.shape[1])\n",
    "    \n",
    "    best_split = [0, 0, 0]  # j, split, gain\n",
    "    \n",
    "    # Para todas las varibles \n",
    "    for j in features:\n",
    "        \n",
    "        splits = np.percentile(X.iloc[:, j], np.arange(0, 100, 100.0 / (num_pct+1)).tolist())\n",
    "        splits = np.unique(splits)[1:]\n",
    "        \n",
    "        # Para cada partición\n",
    "        for split in splits:\n",
    "            gain = gini_impurity(X.iloc[:, j], y, split)\n",
    "                        \n",
    "            if gain > best_split[2]:\n",
    "                best_split = [j, split, gain]\n",
    "    \n",
    "    return best_split\n",
    "    \n",
    "# Definición de la función tree_grow para hacer un crecimiento recursivo del árbol\n",
    "def tree_grow(X, y, level=0, min_gain=0.001, max_depth=None, num_pct=10):\n",
    "    \n",
    "    # Si solo es una observación\n",
    "    if X.shape[0] == 1:\n",
    "        tree = dict(y_pred=y.iloc[:1].values[0], y_prob=0.5, level=level, split=-1, n_samples=1, gain=0)\n",
    "        return tree\n",
    "    \n",
    "    # Calcular la mejor división\n",
    "    j, split, gain = best_split(X, y, num_pct)\n",
    "    \n",
    "    # Guardar el árbol y estimar la predicción\n",
    "    y_pred = int(y.mean() >= 0.5) \n",
    "    y_prob = (y.sum() + 1.0) / (y.shape[0] + 2.0)  # Corrección Laplace \n",
    "    \n",
    "    tree = dict(y_pred=y_pred, y_prob=y_prob, level=level, split=-1, n_samples=X.shape[0], gain=gain)\n",
    "    # Revisar el criterio de parada \n",
    "    if gain < min_gain:\n",
    "        return tree\n",
    "    if max_depth is not None:\n",
    "        if level >= max_depth:\n",
    "            return tree   \n",
    "    \n",
    "    # Continuar creando la partición\n",
    "    filter_l = X.iloc[:, j] < split\n",
    "    X_l, y_l = X.loc[filter_l], y.loc[filter_l]\n",
    "    X_r, y_r = X.loc[~filter_l], y.loc[~filter_l]\n",
    "    tree['split'] = [j, split]\n",
    "\n",
    "    # Siguiente iteración para cada partición\n",
    "    \n",
    "    tree['sl'] = tree_grow(X_l, y_l, level + 1, min_gain=min_gain, max_depth=max_depth, num_pct=num_pct)\n",
    "    tree['sr'] = tree_grow(X_r, y_r, level + 1, min_gain=min_gain, max_depth=max_depth, num_pct=num_pct)\n",
    "    \n",
    "    return tree\n",
    "\n",
    "def tree_predict(X, tree, proba=False):\n",
    "    \n",
    "    predicted = np.ones(X.shape[0])\n",
    "\n",
    "    # Revisar si es el nodo final\n",
    "    if tree['split'] == -1:\n",
    "        if not proba:\n",
    "            predicted = predicted * tree['y_pred']\n",
    "        else:\n",
    "            predicted = predicted * tree['y_prob']\n",
    "            \n",
    "    else:\n",
    "        j, split = tree['split']\n",
    "        filter_l = (X.iloc[:, j] < split)\n",
    "        X_l = X.loc[filter_l]\n",
    "        X_r = X.loc[~filter_l]\n",
    "\n",
    "        if X_l.shape[0] == 0:  # Si el nodo izquierdo está vacio solo continua con el derecho \n",
    "            predicted[~filter_l] = tree_predict(X_r, tree['sr'], proba)\n",
    "        elif X_r.shape[0] == 0:  #  Si el nodo derecho está vacio solo continua con el izquierdo\n",
    "            predicted[filter_l] = tree_predict(X_l, tree['sl'], proba)\n",
    "        else:\n",
    "            predicted[filter_l] = tree_predict(X_l, tree['sl'], proba)\n",
    "            predicted[~filter_l] = tree_predict(X_r, tree['sr'], proba)\n",
    "\n",
    "    return predicted\n"
   ]
  },
  {
   "cell_type": "code",
   "execution_count": 60,
   "metadata": {
    "scrolled": true
   },
   "outputs": [
    {
     "name": "stdout",
     "output_type": "stream",
     "text": [
      "El Accuracy del modelo con un max_depth arbitrario de 5 es: 0.8879907621247113\n"
     ]
    }
   ],
   "source": [
    "#Estimación del modelo con las muestras de entrenamiento. Se escoge el valor de max_depth de manera arbitraria.  \n",
    "tree_ = tree_grow(X_train,y_train, max_depth = 5)\n",
    "\n",
    "y_predict = tree_predict(X_test, tree_ ) #Predicción en la muesra de prueba (test) \n",
    "\n",
    "#Se calcula el Accuracy del modelo con la variable de respuesta de prueba. \n",
    "print('El Accuracy del modelo con un max_depth arbitrario de 5 es: ' + str(metrics.accuracy_score(y_predict, y_test))) "
   ]
  },
  {
   "cell_type": "code",
   "execution_count": 61,
   "metadata": {},
   "outputs": [],
   "source": [
    "acc_arb_man = metrics.accuracy_score(y_predict, y_test)"
   ]
  },
  {
   "cell_type": "markdown",
   "metadata": {},
   "source": [
    "### Punto 2 - Bagging manual\n",
    "\n",
    "En la celda 2 creen un modelo bagging **manualmente** con 10 árboles de clasificación y comenten sobre el desempeño del modelo."
   ]
  },
  {
   "cell_type": "code",
   "execution_count": 62,
   "metadata": {
    "scrolled": true
   },
   "outputs": [
    {
     "name": "stdout",
     "output_type": "stream",
     "text": [
      "Árbol  0 tiene un accuracy de:  0.8853926096997691\n",
      "Árbol  1 tiene un accuracy de:  0.874133949191686\n",
      "Árbol  2 tiene un accuracy de:  0.8801963048498845\n",
      "Árbol  3 tiene un accuracy de:  0.8796189376443418\n",
      "Árbol  4 tiene un accuracy de:  0.8724018475750578\n",
      "Árbol  5 tiene un accuracy de:  0.8611431870669746\n",
      "Árbol  6 tiene un accuracy de:  0.8856812933025404\n",
      "Árbol  7 tiene un accuracy de:  0.8874133949191686\n",
      "Árbol  8 tiene un accuracy de:  0.88135103926097\n",
      "Árbol  9 tiene un accuracy de:  0.8799076212471132\n",
      "\n",
      "\n",
      "El Accuracy del modelo ensamblado es: 0.8830831408775982\n"
     ]
    }
   ],
   "source": [
    "# Celda 2\n",
    "\n",
    "from sklearn.tree import DecisionTreeClassifier #Importar librerias\n",
    "\n",
    "# Creación de 10 muestras de bootstrap \n",
    "n_samples = X_train.shape[0]\n",
    "n_B = 10\n",
    "samples = [np.random.choice(a=n_samples, size=n_samples, replace=True) for _ in range(1, n_B +1 )]\n",
    "\n",
    "# Definición del modelo usando DecisionTreeRegressor de sklearn con un valor para max_depth de 5.\n",
    "treereg = DecisionTreeClassifier(max_depth= 5, random_state=1)\n",
    "\n",
    "# DataFrame para guardar las predicciones de cada árbol\n",
    "y_pred = pd.DataFrame(index=X_test.index, columns=[list(range(n_B))])\n",
    "\n",
    "# Entrenamiento de un árbol sobre cada muestra boostrap y predicción sobre los datos de test\n",
    "for i, sample in enumerate(samples):\n",
    "    Xtrain = X_train.iloc[sample, :]\n",
    "    ytrain = y_train.iloc[sample]\n",
    "    treereg.fit(Xtrain, ytrain)\n",
    "    y_pred.iloc[:,i] = treereg.predict(X_test)\n",
    "\n",
    "for i in range(n_B):\n",
    "    print('Árbol ', i, 'tiene un accuracy de: ', metrics.accuracy_score(y_pred.iloc[:,i].astype(int), y_test) )\n",
    "\n",
    "print('\\n')\n",
    "\n",
    "#Para realizar los ensambles de las estimadores bootstraped se usara votación mayoritaria. \n",
    "yvotacionmayoritaria = (y_pred.sum(axis=1) >= 5).astype(int)\n",
    "print('El Accuracy del modelo ensamblado es: ' + str(metrics.accuracy_score(yvotacionmayoritaria, y_test)))"
   ]
  },
  {
   "cell_type": "markdown",
   "metadata": {
    "scrolled": true
   },
   "source": [
    "El desempeño del modelo ensamblado es ligeramente mayor al desempeño de todos los modelos individuales. Sin embargo, es ligeramente menor al modelo que se implementó manualmente."
   ]
  },
  {
   "cell_type": "code",
   "execution_count": 63,
   "metadata": {},
   "outputs": [],
   "source": [
    "acc_bag_man = metrics.accuracy_score(yvotacionmayoritaria, y_test)"
   ]
  },
  {
   "cell_type": "markdown",
   "metadata": {},
   "source": [
    "### Punto 3 - Bagging con librería\n",
    "\n",
    "En la celda 3, con la librería sklearn, entrenen un modelo bagging con 10 árboles de clasificación y el parámetro `max_features` igual a `log(n_features)`. Presenten el acurracy del modelo en el set de test y comenten sus resultados."
   ]
  },
  {
   "cell_type": "code",
   "execution_count": 64,
   "metadata": {},
   "outputs": [
    {
     "name": "stdout",
     "output_type": "stream",
     "text": [
      "El Accuracy del modelo Bagging con libreria es: 0.8822170900692841\n"
     ]
    }
   ],
   "source": [
    "# Celda 3\n",
    "from sklearn.ensemble import BaggingClassifier #Importar librerias\n",
    "#El parametro max_features se establece como el ln(Número de predictores). Nuevamente, escogemos arbitrariamente un max_depth de 5. \n",
    "bagreg = BaggingClassifier( DecisionTreeClassifier(max_features = round(np.log(X_train.shape[1]) ), max_depth=5) , n_estimators=10,\n",
    "                          bootstrap=True, oob_score=True, random_state=1)\n",
    "\n",
    "# Entrenemiento del modelo con set de entrenamiento y predicción en el set de test\n",
    "bagreg.fit(X_train, y_train)\n",
    "y_pred_ = bagreg.predict(X_test)\n",
    "y_pred_\n",
    "\n",
    "# Cálculo del desempeño del modelo \n",
    "print('El Accuracy del modelo Bagging con libreria es: ' + str(metrics.accuracy_score(y_test, y_pred_)))"
   ]
  },
  {
   "cell_type": "markdown",
   "metadata": {},
   "source": [
    "En general, todos los modelos estimados tienen un desempeño similar, sin embargo, el desempeño del modelo de bagging de 10 árboles con librería es ligeramente menor al desempeño del árbol manual y el del ensamblaje manual."
   ]
  },
  {
   "cell_type": "code",
   "execution_count": 65,
   "metadata": {},
   "outputs": [],
   "source": [
    "acc_bag_skl = metrics.accuracy_score(y_test, y_pred_)"
   ]
  },
  {
   "cell_type": "markdown",
   "metadata": {},
   "source": [
    "### Punto 4 - Random forest con librería\n",
    "\n",
    "En la celda 4, usando la librería sklearn entrenen un modelo de Randon Forest para clasificación y presenten el accuracy del modelo en el set de test y comenten sus resultados."
   ]
  },
  {
   "cell_type": "code",
   "execution_count": 66,
   "metadata": {},
   "outputs": [
    {
     "name": "stdout",
     "output_type": "stream",
     "text": [
      "El Accuracy del modelo Random Forest con libreria es: 0.8732678983833718\n"
     ]
    }
   ],
   "source": [
    "# Celda 4\n",
    "\n",
    "#El parametro max_depth se establece como el ln(Número de predictores).\n",
    "rf_skl = RandomForestClassifier(max_depth=round(np.log(X_train.shape[1])), \n",
    "                                min_impurity_decrease=0.001, n_jobs=-1, \n",
    "                                random_state=123, oob_score=True)\n",
    "\n",
    "# Entrenemiento del modelo con set de entrenamiento y predicción en el set de test\n",
    "rf_skl.fit(X_train, y_train)\n",
    "y_pred = rf_skl.predict(X_test)\n",
    "\n",
    "acc_rf_skl = metrics.accuracy_score(y_pred, y_test)\n",
    "# Cálculo del desempeño del modelo \n",
    "print('El Accuracy del modelo Random Forest con libreria es:', acc_rf_skl)"
   ]
  },
  {
   "cell_type": "markdown",
   "metadata": {},
   "source": [
    "Si bien el modelo presenta un desempeño similar a los anteriores, si se utiliza Random Forest sin ningún tipo de calibración el accuracy del modelo es menor al resultado de los modelos de Bagging y de los árboles de decisión."
   ]
  },
  {
   "cell_type": "markdown",
   "metadata": {},
   "source": [
    "### Punto 5 - Calibración de parámetros Random forest\n",
    "\n",
    "En la celda 5, calibren los parámetros max_depth, max_features y n_estimators del modelo de Randon Forest para clasificación. Presenten el acurracy del modelo en el set de test, comenten sus resultados y análicen cómo cada parámetro afecta el modelo."
   ]
  },
  {
   "cell_type": "markdown",
   "metadata": {},
   "source": [
    "#### Calibrando el n_estimators"
   ]
  },
  {
   "cell_type": "code",
   "execution_count": 67,
   "metadata": {},
   "outputs": [],
   "source": [
    "# Celda 5\n",
    "# Creación de lista de valores para iterar sobre diferentes valores de n_estimators\n",
    "estimator_range = range(10, 310, 10)\n",
    "\n",
    "# Definición de lista para almacenar la exactitud (accuracy) promedio para cada valor de n_estimators\n",
    "accuracy_scores_rf = []\n",
    "\n",
    "# Uso de un 5-fold cross-validation para cada valor de n_estimators\n",
    "for estimator in estimator_range:\n",
    "    clf_rf = RandomForestClassifier(n_estimators=estimator, random_state=123, \n",
    "                                 min_impurity_decrease=0.001, n_jobs=-1)\n",
    "    accuracy_scores_rf.append(cross_val_score(clf_rf, X, y, cv=10, scoring='accuracy').mean())"
   ]
  },
  {
   "cell_type": "code",
   "execution_count": 68,
   "metadata": {},
   "outputs": [
    {
     "data": {
      "text/plain": [
       "Text(0, 0.5, 'Accuracy')"
      ]
     },
     "execution_count": 68,
     "metadata": {},
     "output_type": "execute_result"
    },
    {
     "data": {
      "image/png": "[encoded data removed]",
      "text/plain": [
       "<Figure size 432x288 with 1 Axes>"
      ]
     },
     "metadata": {
      "needs_background": "light"
     },
     "output_type": "display_data"
    }
   ],
   "source": [
    "# Gráfica del desempeño del modelo vs la cantidad de n_estimators\n",
    "plt.plot(estimator_range, accuracy_scores_rf)\n",
    "plt.xlabel('n_estimators')\n",
    "plt.ylabel('Accuracy')"
   ]
  },
  {
   "cell_type": "code",
   "execution_count": 69,
   "metadata": {
    "scrolled": true
   },
   "outputs": [
    {
     "name": "stdout",
     "output_type": "stream",
     "text": [
      "El número óptimo de estimadores es de 100\n"
     ]
    }
   ],
   "source": [
    "#Calculando el número óptimo de estimadores evidenciado en la gráfica \n",
    "n_est_best = estimator_range[accuracy_scores_rf.index(max(accuracy_scores_rf))]\n",
    "print('El número óptimo de estimadores es de ' + str(n_est_best))"
   ]
  },
  {
   "cell_type": "markdown",
   "metadata": {},
   "source": [
    "Para este modelo de Random Forest se evidencia que el número óptimo de árboles a contruir es de 100, después de este dato el desempeño del modelo disminuye drásticamente"
   ]
  },
  {
   "cell_type": "markdown",
   "metadata": {},
   "source": [
    "#### Calibrando el max depth"
   ]
  },
  {
   "cell_type": "code",
   "execution_count": 70,
   "metadata": {},
   "outputs": [],
   "source": [
    "estimator_range = range(1,21)\n",
    "\n",
    "# Definición de lista para almacenar la exactitud (accuracy) promedio para cada valor de n_estimators\n",
    "accuracy_scores_rf = []\n",
    "\n",
    "# Uso de un 5-fold cross-validation para cada valor de n_estimators\n",
    "for estimator in estimator_range:\n",
    "    clf_rf = RandomForestClassifier(n_estimators=100, max_depth=estimator, random_state=123, \n",
    "                                 min_impurity_decrease=0.001, n_jobs=-1)\n",
    "    accuracy_scores_rf.append(cross_val_score(clf_rf, X, y, cv=10, scoring='accuracy').mean())"
   ]
  },
  {
   "cell_type": "code",
   "execution_count": 71,
   "metadata": {},
   "outputs": [
    {
     "data": {
      "text/plain": [
       "Text(0, 0.5, 'Accuracy')"
      ]
     },
     "execution_count": 71,
     "metadata": {},
     "output_type": "execute_result"
    },
    {
     "data": {
      "image/png": "[encoded data removed]",
      "text/plain": [
       "<Figure size 432x288 with 1 Axes>"
      ]
     },
     "metadata": {
      "needs_background": "light"
     },
     "output_type": "display_data"
    }
   ],
   "source": [
    "# Gráfica del desempeño del modelo vs la cantidad de n_estimators\n",
    "plt.plot(estimator_range, accuracy_scores_rf)\n",
    "plt.xlabel('n_estimators')\n",
    "plt.ylabel('Accuracy')"
   ]
  },
  {
   "cell_type": "code",
   "execution_count": 72,
   "metadata": {},
   "outputs": [
    {
     "name": "stdout",
     "output_type": "stream",
     "text": [
      "El número óptimo para la profundidad máxima de los arboles es de 10\n"
     ]
    }
   ],
   "source": [
    "#Calculando el número óptimo de profundidas evidenciado en la gráfica \n",
    "n_est_best = estimator_range[accuracy_scores_rf.index(max(accuracy_scores_rf))]\n",
    "print('El número óptimo para la profundidad máxima de los arboles es de ' + str(n_est_best))"
   ]
  },
  {
   "cell_type": "markdown",
   "metadata": {},
   "source": [
    "A pesar de que la profundida máxima que nos indica la gráfica es 10, se va a hacer uso de una profundidad máxima de 7, ya que se evidencia que el cambio entre estas dos profundidades es muy pequeño y no es significativo. Además podría estar afectamdo el tiempo computacional más de lo que le estaría aportando al modelo."
   ]
  },
  {
   "cell_type": "markdown",
   "metadata": {},
   "source": [
    "#### Calibrando el max_features"
   ]
  },
  {
   "cell_type": "code",
   "execution_count": 73,
   "metadata": {},
   "outputs": [],
   "source": [
    "estimator_range = range(1, X.shape[1]+1)\n",
    "\n",
    "# Definición de lista para almacenar la exactitud (accuracy) promedio para cada valor de n_estimators\n",
    "accuracy_scores_rf = []\n",
    "\n",
    "# Uso de un 5-fold cross-validation para cada valor de n_estimators\n",
    "for estimator in estimator_range:\n",
    "    clf_rf = RandomForestClassifier(n_estimators=100, max_depth=7, random_state=123, \n",
    "                                 max_features= estimator, min_impurity_decrease=0.001, n_jobs=-1)\n",
    "    accuracy_scores_rf.append(cross_val_score(clf_rf, X, y, cv=10, scoring='accuracy').mean())"
   ]
  },
  {
   "cell_type": "code",
   "execution_count": 74,
   "metadata": {},
   "outputs": [
    {
     "data": {
      "text/plain": [
       "Text(0, 0.5, 'Accuracy')"
      ]
     },
     "execution_count": 74,
     "metadata": {},
     "output_type": "execute_result"
    },
    {
     "data": {
      "image/png": "[encoded data removed]",
      "text/plain": [
       "<Figure size 432x288 with 1 Axes>"
      ]
     },
     "metadata": {
      "needs_background": "light"
     },
     "output_type": "display_data"
    }
   ],
   "source": [
    "# Gráfica del desempeño del modelo vs la cantidad de n_estimators\n",
    "plt.plot(estimator_range, accuracy_scores_rf)\n",
    "plt.xlabel('n_estimators')\n",
    "plt.ylabel('Accuracy')"
   ]
  },
  {
   "cell_type": "code",
   "execution_count": 75,
   "metadata": {
    "scrolled": true
   },
   "outputs": [
    {
     "name": "stdout",
     "output_type": "stream",
     "text": [
      "El número óptimo para el máximo de features de los arboles es de 3\n"
     ]
    }
   ],
   "source": [
    "#Calculando el número óptimo de features evidenciado en la gráfica \n",
    "n_est_best = estimator_range[accuracy_scores_rf.index(max(accuracy_scores_rf))]\n",
    "print('El número óptimo para el máximo de features de los arboles es de ' + str(n_est_best))"
   ]
  },
  {
   "cell_type": "markdown",
   "metadata": {},
   "source": [
    "El número óptimo de features a usar es de 3, el cuál es muy cercano al logartimo de la cantidad total de features en el set, lo cuál da un valor de 2.2"
   ]
  },
  {
   "cell_type": "markdown",
   "metadata": {},
   "source": [
    "#### Modelo con los parámetros optimizados"
   ]
  },
  {
   "cell_type": "code",
   "execution_count": 76,
   "metadata": {},
   "outputs": [
    {
     "name": "stdout",
     "output_type": "stream",
     "text": [
      "El Accuracy del modelo Random Forest con libreria y calibrando los parámetros es:  0.8874133949191686\n"
     ]
    }
   ],
   "source": [
    "#Se implementan los parámetris optimizados teniendo en cuenta que:\n",
    "#el número de estimadores es 100, la profundidad es 7 y los features son 3.\n",
    "rf_skl_opt = RandomForestClassifier(n_estimators=100, max_depth=7, random_state=123, \n",
    "                                 max_features= 3, min_impurity_decrease=0.001, n_jobs=-1)\n",
    "\n",
    "# Entrenemiento del modelo con set de entrenamiento y predicción en el set de test\n",
    "rf_skl_opt.fit(X_train, y_train)\n",
    "y_pred = rf_skl_opt.predict(X_test)\n",
    "\n",
    "# Cálculo del desempeño del modelo \n",
    "acc_rf_skl_opt = metrics.accuracy_score(y_pred, y_test)\n",
    "\n",
    "print('El Accuracy del modelo Random Forest con libreria y calibrando los parámetros es: ', acc_rf_skl_opt)"
   ]
  },
  {
   "cell_type": "markdown",
   "metadata": {},
   "source": [
    "Una vez se calibraron los parámetros del modelo de Random forest con libreria se evidencia un aumento en el Accuracy del modelo, sin embargo, no es el modelo que presenta un mejor desempeño"
   ]
  },
  {
   "cell_type": "markdown",
   "metadata": {},
   "source": [
    "### Punto 6 - XGBoost con librería\n",
    "\n",
    "En la celda 6 implementen un modelo XGBoost de clasificación con la librería sklearn, presenten el acurracy del modelo en el set de test y comenten sus resultados."
   ]
  },
  {
   "cell_type": "code",
   "execution_count": 77,
   "metadata": {
    "scrolled": true
   },
   "outputs": [],
   "source": [
    "#Importar librerias\n",
    "from xgboost import XGBClassifier"
   ]
  },
  {
   "cell_type": "code",
   "execution_count": 78,
   "metadata": {},
   "outputs": [
    {
     "name": "stdout",
     "output_type": "stream",
     "text": [
      "El Accuracy del modelo XGBoost con libreria es:  0.8856812933025404\n"
     ]
    }
   ],
   "source": [
    "# Celda 7\n",
    "xgb_skl = XGBClassifier()\n",
    "\n",
    "# Entrenemiento del modelo con set de entrenamiento y predicción en el set de test\n",
    "xgb_skl.fit(X_train, y_train)\n",
    "y_pred = xgb_skl.predict(X_test)\n",
    "\n",
    "# Cálculo del desempeño del modelo\n",
    "acc_xgb_skl = metrics.accuracy_score(y_pred, y_test)\n",
    "\n",
    "\n",
    "print('El Accuracy del modelo XGBoost con libreria es: ', acc_xgb_skl)"
   ]
  },
  {
   "cell_type": "markdown",
   "metadata": {},
   "source": [
    "Con el modelo de XGBoost el desempeño del modelo es muy similar al de los anteriores, sin embargo no tiene el Accuracy más alto, es posible que calibrando los parámetros el modelo presente un mejor desempeño "
   ]
  },
  {
   "cell_type": "markdown",
   "metadata": {},
   "source": [
    "### Punto 7 - Calibración de parámetros XGBoost\n",
    "\n",
    "En la celda 7 calibren los parámetros learning rate, gamma y colsample_bytree del modelo XGBoost para clasificación. Presenten el acurracy del modelo en el set de test, comenten sus resultados y análicen cómo cada parámetro afecta el modelo."
   ]
  },
  {
   "cell_type": "markdown",
   "metadata": {},
   "source": [
    "#### Calibrando el learning rate"
   ]
  },
  {
   "cell_type": "code",
   "execution_count": 79,
   "metadata": {
    "scrolled": true
   },
   "outputs": [],
   "source": [
    "# Celda 6\n",
    "estimator_range = range(0,20,1)\n",
    "\n",
    "# Definición de lista para almacenar la exactitud (accuracy) promedio para cada valor de n_estimators\n",
    "accuracy_scores_xgb = []\n",
    "\n",
    "# Uso de un 5-fold cross-validation para cada valor de n_estimators\n",
    "for estimator in estimator_range:\n",
    "    clf_xgb = XGBClassifier(learning_rate = (estimator*0.05), random_state=123, n_jobs=-1)\n",
    "    accuracy_scores_xgb.append(cross_val_score(clf_xgb, X, y, cv=5, scoring='accuracy').mean())"
   ]
  },
  {
   "cell_type": "code",
   "execution_count": 80,
   "metadata": {},
   "outputs": [
    {
     "data": {
      "text/plain": [
       "[0.41981896141019537,\n",
       " 0.884992853739876,\n",
       " 0.8832777513101477,\n",
       " 0.882991900905193,\n",
       " 0.8815626488804191,\n",
       " 0.8808003811338733,\n",
       " 0.8796569795140543,\n",
       " 0.8790852787041448,\n",
       " 0.8773701762744164,\n",
       " 0.8769890424011434,\n",
       " 0.8728918532634588,\n",
       " 0.8732729871367317,\n",
       " 0.8724154359218674,\n",
       " 0.8741305383515959,\n",
       " 0.8715578847070035,\n",
       " 0.8686040971891377,\n",
       " 0.8670795616960458,\n",
       " 0.8675559790376368,\n",
       " 0.8669842782277275,\n",
       " 0.8666984278227728]"
      ]
     },
     "execution_count": 80,
     "metadata": {},
     "output_type": "execute_result"
    }
   ],
   "source": [
    "accuracy_scores_xgb"
   ]
  },
  {
   "cell_type": "code",
   "execution_count": 81,
   "metadata": {
    "scrolled": true
   },
   "outputs": [
    {
     "data": {
      "text/plain": [
       "Text(0, 0.5, 'Accuracy')"
      ]
     },
     "execution_count": 81,
     "metadata": {},
     "output_type": "execute_result"
    },
    {
     "data": {
      "image/png": "[encoded data removed]",
      "text/plain": [
       "<Figure size 432x288 with 1 Axes>"
      ]
     },
     "metadata": {
      "needs_background": "light"
     },
     "output_type": "display_data"
    }
   ],
   "source": [
    "# Gráfica del desempeño del modelo vs la cantidad de n_estimators\n",
    "est_fin = [i*0.05 for i in estimator_range]\n",
    "plt.plot(est_fin, accuracy_scores_xgb)\n",
    "plt.xlabel('Learning rate')\n",
    "plt.ylabel('Accuracy')"
   ]
  },
  {
   "cell_type": "code",
   "execution_count": 82,
   "metadata": {
    "scrolled": true
   },
   "outputs": [
    {
     "name": "stdout",
     "output_type": "stream",
     "text": [
      "El número óptimo para el learning rate de los arboles es de 0.05\n"
     ]
    }
   ],
   "source": [
    "n_est_best = estimator_range[accuracy_scores_xgb.index(max(accuracy_scores_xgb))]\n",
    "print('El número óptimo para el learning rate de los arboles es de ' + str(n_est_best*0.05))"
   ]
  },
  {
   "cell_type": "markdown",
   "metadata": {},
   "source": [
    "El modelo XGBoost toma base en el ensmablaje de árboles de decisión construidos secuencialmente con mejoras algoritmicas por lo que es importante calibrar el modelo learning rate ya que este parámetro será el encargado de controlar la ponderación de los nuevos árboles agregados al modelo."
   ]
  },
  {
   "cell_type": "markdown",
   "metadata": {},
   "source": [
    "#### Calibrando el gamma"
   ]
  },
  {
   "cell_type": "code",
   "execution_count": 83,
   "metadata": {
    "scrolled": true
   },
   "outputs": [],
   "source": [
    "estimator_range = range(0,20,1)\n",
    "\n",
    "# Definición de lista para almacenar la exactitud (accuracy) promedio para cada valor de n_estimators\n",
    "accuracy_scores_xgb = []\n",
    "\n",
    "# Uso de un 5-fold cross-validation para cada valor de n_estimators\n",
    "for estimator in estimator_range:\n",
    "    clf_xgb = XGBClassifier(learning_rate = 0.05, random_state=123, gamma = estimator,\n",
    "                            n_jobs=-1)\n",
    "    accuracy_scores_xgb.append(cross_val_score(clf_xgb, X, y, cv=5, scoring='accuracy').mean())"
   ]
  },
  {
   "cell_type": "code",
   "execution_count": 84,
   "metadata": {},
   "outputs": [
    {
     "data": {
      "text/plain": [
       "[0.884992853739876,\n",
       " 0.8852787041448309,\n",
       " 0.8848975702715579,\n",
       " 0.8848022868032397,\n",
       " 0.8852787041448309,\n",
       " 0.8854692710814674,\n",
       " 0.8861362553596951,\n",
       " 0.8860409718913769,\n",
       " 0.8865173892329681,\n",
       " 0.8862315388280134,\n",
       " 0.8863268222963315,\n",
       " 0.8861362553596951,\n",
       " 0.8863268222963316,\n",
       " 0.8857551214864221,\n",
       " 0.8860409718913769,\n",
       " 0.8851834206765126,\n",
       " 0.8854692710814673,\n",
       " 0.8859456884230585,\n",
       " 0.8854692710814674,\n",
       " 0.8859456884230585]"
      ]
     },
     "execution_count": 84,
     "metadata": {},
     "output_type": "execute_result"
    }
   ],
   "source": [
    "accuracy_scores_xgb"
   ]
  },
  {
   "cell_type": "code",
   "execution_count": 85,
   "metadata": {},
   "outputs": [
    {
     "data": {
      "text/plain": [
       "Text(0, 0.5, 'Accuracy')"
      ]
     },
     "execution_count": 85,
     "metadata": {},
     "output_type": "execute_result"
    },
    {
     "data": {
      "image/png": "[encoded data removed]",
      "text/plain": [
       "<Figure size 432x288 with 1 Axes>"
      ]
     },
     "metadata": {
      "needs_background": "light"
     },
     "output_type": "display_data"
    }
   ],
   "source": [
    "# Gráfica del desempeño del modelo vs la cantidad de n_estimators\n",
    "est_fin = [i for i in estimator_range]\n",
    "plt.plot(est_fin, accuracy_scores_xgb)\n",
    "plt.xlabel('Gamma')\n",
    "plt.ylabel('Accuracy')"
   ]
  },
  {
   "cell_type": "code",
   "execution_count": 86,
   "metadata": {},
   "outputs": [
    {
     "name": "stdout",
     "output_type": "stream",
     "text": [
      "El número óptimo para el gamma es de 8\n"
     ]
    }
   ],
   "source": [
    "n_est_best = estimator_range[accuracy_scores_xgb.index(max(accuracy_scores_xgb))]\n",
    "print('El número óptimo para el gamma es de ' + str(n_est_best))"
   ]
  },
  {
   "cell_type": "markdown",
   "metadata": {},
   "source": [
    "Como lo hemos observado, el modelo XGBoost cuenta con algunas mejoras algorítmicas y dentro de estas se encuentra la regularización, es aquí donde entra en juego el parametro Gamma ya que con este parametro de regularización se buscará penalizar los modelos altamente complejos y combatir el sobreajuste en el modelo de XGBoost."
   ]
  },
  {
   "cell_type": "markdown",
   "metadata": {},
   "source": [
    "#### Calibrando el colsample_bytree"
   ]
  },
  {
   "cell_type": "code",
   "execution_count": 87,
   "metadata": {},
   "outputs": [],
   "source": [
    "accuracy_scores_xgb.clear()"
   ]
  },
  {
   "cell_type": "code",
   "execution_count": 88,
   "metadata": {},
   "outputs": [
    {
     "data": {
      "text/plain": [
       "[]"
      ]
     },
     "execution_count": 88,
     "metadata": {},
     "output_type": "execute_result"
    }
   ],
   "source": [
    "accuracy_scores_xgb"
   ]
  },
  {
   "cell_type": "code",
   "execution_count": 89,
   "metadata": {
    "scrolled": true
   },
   "outputs": [],
   "source": [
    "estimator_range = range(0,20,1)\n",
    "\n",
    "# Definición de lista para almacenar la exactitud (accuracy) promedio para cada valor de n_estimators\n",
    "accuracy_scores_rf = []\n",
    "\n",
    "# Uso de un 5-fold cross-validation para cada valor de colsample_bytree\n",
    "for estimator in estimator_range:\n",
    "    clf_xgb = XGBClassifier (learning_rate = 0.05, random_state=123, gamma = 8, colsample_bytree = estimator)\n",
    "    accuracy_scores_xgb.append(cross_val_score(clf_xgb, X, y, cv=5, scoring='accuracy').mean())"
   ]
  },
  {
   "cell_type": "code",
   "execution_count": 90,
   "metadata": {},
   "outputs": [
    {
     "data": {
      "text/plain": [
       "Text(0, 0.5, 'Accuracy')"
      ]
     },
     "execution_count": 90,
     "metadata": {},
     "output_type": "execute_result"
    },
    {
     "data": {
      "image/png": "[encoded data removed]",
      "text/plain": [
       "<Figure size 432x288 with 1 Axes>"
      ]
     },
     "metadata": {
      "needs_background": "light"
     },
     "output_type": "display_data"
    }
   ],
   "source": [
    "# Gráfica del desempeño del modelo vs la cantidad de n_estimators\n",
    "est_fin = [i for i in estimator_range]\n",
    "plt.plot(est_fin, accuracy_scores_xgb)\n",
    "plt.xlabel('ColSample')\n",
    "plt.ylabel('Accuracy')"
   ]
  },
  {
   "cell_type": "code",
   "execution_count": 91,
   "metadata": {},
   "outputs": [
    {
     "name": "stdout",
     "output_type": "stream",
     "text": [
      "El número óptimo para colsamplebytree es de 1\n"
     ]
    }
   ],
   "source": [
    "n_est_best = estimator_range[accuracy_scores_xgb.index(max(accuracy_scores_xgb))]\n",
    "print('El número óptimo para colsamplebytree es de ' + str(n_est_best))"
   ]
  },
  {
   "cell_type": "markdown",
   "metadata": {},
   "source": [
    "El parametro \"colsample_bytree\" es la relación de submuestra de las columnas al construir cada árbol. Dicha relación o submuestreo se realiza una vez por cada arbol a realizar en el modelo y el paramatro se encuentra entre cero (0) y uno (1). De no poner explicitamente el valor del parametro en el modelo de XGBoost a realizar, se va a tomar por default un valor de uno (1). A l realizar el ejercico de calibración encontramos que el numero de submuestras optimas por arbol es de 1."
   ]
  },
  {
   "cell_type": "markdown",
   "metadata": {},
   "source": [
    "### Modelo XGBoost con parametros optimizados"
   ]
  },
  {
   "cell_type": "code",
   "execution_count": 92,
   "metadata": {},
   "outputs": [
    {
     "name": "stdout",
     "output_type": "stream",
     "text": [
      "F1 Score:  0.90752688172043\n",
      "Accuracy:  0.8882794457274826\n"
     ]
    }
   ],
   "source": [
    "#Se incorporan en el modelo XGBoost los parametros calibrados en pasos anteriores\n",
    "xgb_skl = XGBClassifier (learning_rate = 0.05, random_state=123, gamma = 8, colsample_bytree = 1)\n",
    "\n",
    "#Separación para el modelo\n",
    "xgb_skl.fit(X_train, y_train)\n",
    "y_pred = xgb_skl.predict(X_test)\n",
    "\n",
    "#Predicciones del modelo XGBoost con parametros optimizados\n",
    "f1_xgb_skl_opt = metrics.f1_score(y_pred, y_test)\n",
    "acc_xgb_skl_opt = metrics.accuracy_score(y_pred, y_test)\n",
    "\n",
    "#Ver resultados de las predicciones\n",
    "print('F1 Score: ', f1_xgb_skl_opt)\n",
    "print('Accuracy: ', acc_xgb_skl_opt)"
   ]
  },
  {
   "cell_type": "markdown",
   "metadata": {},
   "source": [
    "### Punto 8 - Comparación y análisis de resultados\n",
    "En la celda 8 comparen los resultados obtenidos de los diferentes modelos (random forest y XGBoost) y comenten las ventajas del mejor modelo y las desventajas del modelo con el menor desempeño."
   ]
  },
  {
   "cell_type": "code",
   "execution_count": 95,
   "metadata": {
    "scrolled": true
   },
   "outputs": [
    {
     "data": {
      "image/png": "[encoded data removed]",
      "text/plain": [
       "<Figure size 432x288 with 1 Axes>"
      ]
     },
     "metadata": {
      "needs_background": "light"
     },
     "output_type": "display_data"
    }
   ],
   "source": [
    "# Celda 8\n",
    "\n",
    "#Mediante un gráfico se pretenderá observar el comportamiento de los diferentes modelos\n",
    "fig = plt.figure()\n",
    "ax = fig.add_axes([0,0,1,1])\n",
    "ax.set_title(\"Comparación de modelos\")\n",
    "ejeX = ['ArbMan', 'BaggMan','BaggSKL','RF','RFopt','XGB','XGBOpt']\n",
    "ejeY = [round(acc_arb_man,4),round(acc_bag_man,4),round(acc_bag_skl,4),round(acc_rf_skl,2) ,round(acc_rf_skl_opt,4),round(acc_xgb_skl,4),round(acc_xgb_skl_opt,4)]\n",
    "ax.bar(ejeX,ejeY)\n",
    "def addlabels(x,y,plotP):\n",
    "    for i in range(len(x)):\n",
    "        plotP.text(i,y[i],y[i])\n",
    "addlabels(ejeX,ejeY,plt)\n",
    "plt.show()"
   ]
  },
  {
   "cell_type": "markdown",
   "metadata": {},
   "source": [
    "Como se puede evidenciar en el gráfico, los modelos presentan un nivel de acurracy similar, siendo el modelo XGBoost con parametros optimizados el que cuenta con un mejor desempeño ya que tiene un accuracy de 0.8883 seguido de el modelo de Bagging Manual (0.8877). Este resultado era el esperado y está de acuerdo con la teoría y práctica donde el modelo de XGBoost es uno de los mas utilizados pur su eficiencia y rendimiento ya que cuenta con mejoras algortimicas como los on la regularización (Parametros que se clabriraron para obtener le XGBoost con parametros optimizados)."
   ]
  },
  {
   "cell_type": "markdown",
   "metadata": {},
   "source": [
    "En el ejericico evidenciamos la importancia de calibrar los parametros en los modelos ya que se observa una mejora tanto en XGBoost como en Bagging con parametros optimizados. Los modelos en general cuentan con un accuracy bueno pero la calibración de parametros puede marcar la diferencia "
   ]
  },
  {
   "cell_type": "code",
   "execution_count": null,
   "metadata": {},
   "outputs": [],
   "source": []
  }
 ],
 "metadata": {
  "kernelspec": {
   "display_name": "Python 3",
   "language": "python",
   "name": "python3"
  },
  "language_info": {
   "codemirror_mode": {
    "name": "ipython",
    "version": 3
   },
   "file_extension": ".py",
   "mimetype": "text/x-python",
   "name": "python",
   "nbconvert_exporter": "python",
   "pygments_lexer": "ipython3",
   "version": "3.8.8"
  }
 },
 "nbformat": 4,
 "nbformat_minor": 4
}
